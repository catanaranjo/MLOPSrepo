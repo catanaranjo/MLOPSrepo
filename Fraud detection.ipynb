{
 "cells": [
  {
   "cell_type": "markdown",
   "metadata": {},
   "source": [
    "# Loading dataset"
   ]
  },
  {
   "cell_type": "code",
   "execution_count": 1,
   "metadata": {},
   "outputs": [],
   "source": [
    "import pandas as pd\n",
    "df = pd.read_csv(\"https://raw.githubusercontent.com/catanaranjo/fraudDetection/master/dev.csv\") \n",
    "dfo = pd.read_csv(\"https://raw.githubusercontent.com/catanaranjo/fraudDetection/master/oot0.csv\")"
   ]
  },
  {
   "cell_type": "markdown",
   "metadata": {},
   "source": [
    "# Creating new column for identifying train and test dataset"
   ]
  },
  {
   "cell_type": "code",
   "execution_count": 2,
   "metadata": {},
   "outputs": [],
   "source": [
    "df['dataset'] = 'train'\n",
    "dfo['dataset'] = 'test'\n",
    "dfo['ob_target'] = 0\n",
    "trainTestDF= df.append(dfo)"
   ]
  },
  {
   "cell_type": "markdown",
   "metadata": {},
   "source": [
    "# Identifying numeric features"
   ]
  },
  {
   "cell_type": "code",
   "execution_count": 3,
   "metadata": {},
   "outputs": [],
   "source": [
    "numericList = []\n",
    "for i in range(65,82):\n",
    "    numericList.append('if_var_' + str(i))"
   ]
  },
  {
   "cell_type": "markdown",
   "metadata": {},
   "source": [
    "# Removing outliers"
   ]
  },
  {
   "cell_type": "code",
   "execution_count": 4,
   "metadata": {},
   "outputs": [],
   "source": [
    "import numpy as np\n",
    "import warnings; warnings.simplefilter('ignore')\n",
    "def change_outliers(dataframe):\n",
    "    list = []\n",
    "    list = numericList\n",
    "    for column in list:\n",
    "        q1 = dataframe[column].quantile(0.25)\n",
    "        q3 = dataframe[column].quantile(0.75)\n",
    "        iqr = q3-q1 #Interquartile range\n",
    "        highest = q3 + 1.5*iqr\n",
    "        lowest = q1 - 1.5*iqr\n",
    "        median = dataframe.loc[dataframe[column]<q3 + 1.5*iqr, column].median()\n",
    "        outliersUp = (dataframe[column]).abs() > round(q3 + 1.5*iqr)\n",
    "        outliersDown = (dataframe[column]).abs() < round(q1 - 1.5*iqr)\n",
    "        dataframe[column][outliersUp] = np.nan\n",
    "        dataframe[column].fillna(highest, inplace=True)\n",
    "        dataframe[column][outliersDown] = np.nan\n",
    "        dataframe[column].fillna(lowest, inplace=True)\n",
    "\n",
    "numericDF = trainTestDF[numericList]\n",
    "change_outliers(numericDF)"
   ]
  },
  {
   "cell_type": "markdown",
   "metadata": {},
   "source": [
    "# Removing NA values"
   ]
  },
  {
   "cell_type": "code",
   "execution_count": 5,
   "metadata": {},
   "outputs": [],
   "source": [
    "trainTestDF['ib_var_12']=trainTestDF.ib_var_12.transform(lambda x: x.fillna(x.mode()[0]))\n",
    "trainTestDF['ib_var_15']=trainTestDF.ib_var_15.transform(lambda x: x.fillna(x.mode()[0]))\n",
    "trainTestDF['ib_var_16']=trainTestDF.ib_var_16.transform(lambda x: x.fillna(x.mode()[0]))\n",
    "trainTestDF['ib_var_17']=trainTestDF.ib_var_17.transform(lambda x: x.fillna(x.mode()[0]))\n",
    "trainTestDF['ib_var_18']=trainTestDF.ib_var_18.transform(lambda x: x.fillna(x.mode()[0]))\n",
    "trainTestDF['ib_var_19']=trainTestDF.ib_var_19.transform(lambda x: x.fillna(x.mode()[0]))\n",
    "trainTestDF['ib_var_20']=trainTestDF.ib_var_20.transform(lambda x: x.fillna(x.mode()[0]))\n",
    "trainTestDF['ib_var_21']=trainTestDF.ib_var_21.transform(lambda x: x.fillna(x.mode()[0]))\n",
    "trainTestDF['icn_var_22']=trainTestDF.icn_var_22.transform(lambda x: x.fillna(x.mode()[0]))\n",
    "trainTestDF['icn_var_24']=trainTestDF.icn_var_24.transform(lambda x: x.fillna(x.mode()[0]))\n",
    "trainTestDF['ico_var_26']=trainTestDF.ico_var_26.transform(lambda x: x.fillna(x.median()))\n",
    "trainTestDF['ico_var_33']=trainTestDF.ico_var_33.transform(lambda x: x.fillna(x.median()))\n",
    "trainTestDF['ico_var_37']=trainTestDF.ico_var_37.transform(lambda x: x.fillna(x.median()))\n",
    "trainTestDF['if_var_78']=trainTestDF.if_var_78.transform(lambda x: x.fillna(x.median()))"
   ]
  },
  {
   "cell_type": "markdown",
   "metadata": {},
   "source": [
    "# PCA for dimensionality reduction"
   ]
  },
  {
   "cell_type": "code",
   "execution_count": 6,
   "metadata": {},
   "outputs": [],
   "source": [
    "from sklearn.decomposition import PCA\n",
    "from sklearn.preprocessing import StandardScaler\n",
    "\n",
    "scaler = StandardScaler()\n",
    "numericDF = trainTestDF[numericList]\n",
    "numericDF = pd.DataFrame(scaler.fit_transform(numericDF),columns=numericDF.columns)\n",
    "numericDF.head()\n",
    "\n",
    "pca = PCA(n_components=8,random_state=42)\n",
    "transformed = pca.fit_transform(numericDF)\n",
    "\n",
    "pcaDF = pd.DataFrame(data = transformed\n",
    "             , columns = ['PCA1', 'PCA2', 'PCA3','PCA4','PCA5','PCA6','PCA7','PCA8'])\n",
    "pcaDF.reset_index(inplace=True)\n",
    "trainTestDF = trainTestDF.join(pcaDF)"
   ]
  },
  {
   "cell_type": "markdown",
   "metadata": {},
   "source": [
    "# OHE for categorical features"
   ]
  },
  {
   "cell_type": "code",
   "execution_count": 7,
   "metadata": {},
   "outputs": [
    {
     "data": {
      "text/html": [
       "<div>\n",
       "<style scoped>\n",
       "    .dataframe tbody tr th:only-of-type {\n",
       "        vertical-align: middle;\n",
       "    }\n",
       "\n",
       "    .dataframe tbody tr th {\n",
       "        vertical-align: top;\n",
       "    }\n",
       "\n",
       "    .dataframe thead th {\n",
       "        text-align: right;\n",
       "    }\n",
       "</style>\n",
       "<table border=\"1\" class=\"dataframe\">\n",
       "  <thead>\n",
       "    <tr style=\"text-align: right;\">\n",
       "      <th></th>\n",
       "      <th>id</th>\n",
       "      <th>ib_var_1</th>\n",
       "      <th>ib_var_2</th>\n",
       "      <th>ib_var_3</th>\n",
       "      <th>ib_var_4</th>\n",
       "      <th>ib_var_5</th>\n",
       "      <th>ib_var_6</th>\n",
       "      <th>ib_var_7</th>\n",
       "      <th>ib_var_8</th>\n",
       "      <th>ib_var_9</th>\n",
       "      <th>...</th>\n",
       "      <th>if_var_81</th>\n",
       "      <th>index</th>\n",
       "      <th>PCA1</th>\n",
       "      <th>PCA2</th>\n",
       "      <th>PCA3</th>\n",
       "      <th>PCA4</th>\n",
       "      <th>PCA5</th>\n",
       "      <th>PCA6</th>\n",
       "      <th>PCA7</th>\n",
       "      <th>PCA8</th>\n",
       "    </tr>\n",
       "  </thead>\n",
       "  <tbody>\n",
       "    <tr>\n",
       "      <th>0</th>\n",
       "      <td>1</td>\n",
       "      <td>0</td>\n",
       "      <td>1</td>\n",
       "      <td>0</td>\n",
       "      <td>0</td>\n",
       "      <td>1</td>\n",
       "      <td>1</td>\n",
       "      <td>0</td>\n",
       "      <td>0</td>\n",
       "      <td>0</td>\n",
       "      <td>...</td>\n",
       "      <td>1</td>\n",
       "      <td>0</td>\n",
       "      <td>1.702443</td>\n",
       "      <td>-0.240490</td>\n",
       "      <td>-1.858499</td>\n",
       "      <td>-0.151677</td>\n",
       "      <td>0.666923</td>\n",
       "      <td>0.086148</td>\n",
       "      <td>-0.543337</td>\n",
       "      <td>0.091393</td>\n",
       "    </tr>\n",
       "    <tr>\n",
       "      <th>1</th>\n",
       "      <td>2</td>\n",
       "      <td>0</td>\n",
       "      <td>1</td>\n",
       "      <td>0</td>\n",
       "      <td>0</td>\n",
       "      <td>0</td>\n",
       "      <td>1</td>\n",
       "      <td>0</td>\n",
       "      <td>0</td>\n",
       "      <td>0</td>\n",
       "      <td>...</td>\n",
       "      <td>4</td>\n",
       "      <td>1</td>\n",
       "      <td>0.651663</td>\n",
       "      <td>-0.711393</td>\n",
       "      <td>1.271747</td>\n",
       "      <td>2.329395</td>\n",
       "      <td>1.393649</td>\n",
       "      <td>0.745848</td>\n",
       "      <td>-0.610135</td>\n",
       "      <td>0.152565</td>\n",
       "    </tr>\n",
       "    <tr>\n",
       "      <th>2</th>\n",
       "      <td>3</td>\n",
       "      <td>0</td>\n",
       "      <td>0</td>\n",
       "      <td>0</td>\n",
       "      <td>0</td>\n",
       "      <td>1</td>\n",
       "      <td>1</td>\n",
       "      <td>0</td>\n",
       "      <td>0</td>\n",
       "      <td>0</td>\n",
       "      <td>...</td>\n",
       "      <td>2</td>\n",
       "      <td>2</td>\n",
       "      <td>0.908728</td>\n",
       "      <td>0.399952</td>\n",
       "      <td>0.895837</td>\n",
       "      <td>-0.064963</td>\n",
       "      <td>-0.342891</td>\n",
       "      <td>0.816829</td>\n",
       "      <td>-0.470053</td>\n",
       "      <td>-0.042002</td>\n",
       "    </tr>\n",
       "    <tr>\n",
       "      <th>3</th>\n",
       "      <td>4</td>\n",
       "      <td>0</td>\n",
       "      <td>1</td>\n",
       "      <td>0</td>\n",
       "      <td>1</td>\n",
       "      <td>1</td>\n",
       "      <td>1</td>\n",
       "      <td>0</td>\n",
       "      <td>0</td>\n",
       "      <td>0</td>\n",
       "      <td>...</td>\n",
       "      <td>3</td>\n",
       "      <td>3</td>\n",
       "      <td>1.794498</td>\n",
       "      <td>-0.480808</td>\n",
       "      <td>0.091275</td>\n",
       "      <td>1.277642</td>\n",
       "      <td>1.368120</td>\n",
       "      <td>2.154262</td>\n",
       "      <td>-0.365349</td>\n",
       "      <td>0.675085</td>\n",
       "    </tr>\n",
       "    <tr>\n",
       "      <th>4</th>\n",
       "      <td>5</td>\n",
       "      <td>0</td>\n",
       "      <td>0</td>\n",
       "      <td>0</td>\n",
       "      <td>0</td>\n",
       "      <td>0</td>\n",
       "      <td>1</td>\n",
       "      <td>0</td>\n",
       "      <td>0</td>\n",
       "      <td>0</td>\n",
       "      <td>...</td>\n",
       "      <td>3</td>\n",
       "      <td>4</td>\n",
       "      <td>0.052171</td>\n",
       "      <td>0.127745</td>\n",
       "      <td>1.042783</td>\n",
       "      <td>-0.379492</td>\n",
       "      <td>-0.488249</td>\n",
       "      <td>-1.109839</td>\n",
       "      <td>0.226669</td>\n",
       "      <td>-0.254306</td>\n",
       "    </tr>\n",
       "  </tbody>\n",
       "</table>\n",
       "<p>5 rows × 91 columns</p>\n",
       "</div>"
      ],
      "text/plain": [
       "   id  ib_var_1  ib_var_2  ib_var_3  ib_var_4  ib_var_5  ib_var_6  ib_var_7  \\\n",
       "0   1         0         1         0         0         1         1         0   \n",
       "1   2         0         1         0         0         0         1         0   \n",
       "2   3         0         0         0         0         1         1         0   \n",
       "3   4         0         1         0         1         1         1         0   \n",
       "4   5         0         0         0         0         0         1         0   \n",
       "\n",
       "   ib_var_8  ib_var_9  ...  if_var_81  index      PCA1      PCA2      PCA3  \\\n",
       "0         0         0  ...          1      0  1.702443 -0.240490 -1.858499   \n",
       "1         0         0  ...          4      1  0.651663 -0.711393  1.271747   \n",
       "2         0         0  ...          2      2  0.908728  0.399952  0.895837   \n",
       "3         0         0  ...          3      3  1.794498 -0.480808  0.091275   \n",
       "4         0         0  ...          3      4  0.052171  0.127745  1.042783   \n",
       "\n",
       "       PCA4      PCA5      PCA6      PCA7      PCA8  \n",
       "0 -0.151677  0.666923  0.086148 -0.543337  0.091393  \n",
       "1  2.329395  1.393649  0.745848 -0.610135  0.152565  \n",
       "2 -0.064963 -0.342891  0.816829 -0.470053 -0.042002  \n",
       "3  1.277642  1.368120  2.154262 -0.365349  0.675085  \n",
       "4 -0.379492 -0.488249 -1.109839  0.226669 -0.254306  \n",
       "\n",
       "[5 rows x 91 columns]"
      ]
     },
     "execution_count": 7,
     "metadata": {},
     "output_type": "execute_result"
    }
   ],
   "source": [
    "categorical_transformed_trainDF = trainTestDF[trainTestDF['dataset']=='train']\n",
    "categorical_transformed_testDF = trainTestDF[trainTestDF['dataset']=='test']\n",
    "\n",
    "# y_train = trainTestDF['ob_target']\n",
    "y_train = categorical_transformed_trainDF['ob_target']\n",
    "\n",
    "drops = ['ob_target','dataset']\n",
    "categorical_ohe_train = categorical_transformed_trainDF.loc[:,~categorical_transformed_trainDF.columns.isin(drops)]\n",
    "categorical_ohe_test = categorical_transformed_testDF.loc[:,~categorical_transformed_testDF.columns.isin(drops)]\n",
    "\n",
    "X_train = pd.get_dummies(categorical_ohe_train) \n",
    "X_test = pd.get_dummies(categorical_ohe_test)\n",
    "X_train.head()"
   ]
  },
  {
   "cell_type": "markdown",
   "metadata": {},
   "source": [
    "# Baseline Random Forest"
   ]
  },
  {
   "cell_type": "code",
   "execution_count": 8,
   "metadata": {},
   "outputs": [
    {
     "name": "stdout",
     "output_type": "stream",
     "text": [
      "GINI DEVELOPMENT= 1.0\n"
     ]
    }
   ],
   "source": [
    "from sklearn.ensemble import RandomForestClassifier\n",
    "from sklearn.metrics import roc_auc_score\n",
    "\n",
    "baseline_rf = RandomForestClassifier(n_jobs=-1,random_state=42,n_estimators=4000,criterion='entropy',max_features='log2',\n",
    "                                    bootstrap=True, min_samples_split=3,min_samples_leaf=1,oob_score=True)\n",
    "\n",
    "baseline_rf.fit(X_train,y_train)\n",
    "y_pred_rf = baseline_rf.predict_proba(X_train)[:,1]\n",
    "\n",
    " \n",
    "gini_score = 2*roc_auc_score(y_train, y_pred_rf)-1\n",
    "print (\"GINI DEVELOPMENT=\", gini_score)"
   ]
  }
 ],
 "metadata": {
  "kernelspec": {
   "display_name": "Python 3",
   "language": "python",
   "name": "python3"
  },
  "language_info": {
   "codemirror_mode": {
    "name": "ipython",
    "version": 3
   },
   "file_extension": ".py",
   "mimetype": "text/x-python",
   "name": "python",
   "nbconvert_exporter": "python",
   "pygments_lexer": "ipython3",
   "version": "3.7.3"
  }
 },
 "nbformat": 4,
 "nbformat_minor": 2
}
