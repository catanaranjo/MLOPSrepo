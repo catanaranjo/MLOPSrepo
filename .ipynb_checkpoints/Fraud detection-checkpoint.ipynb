{
 "cells": [
  {
   "cell_type": "markdown",
   "metadata": {},
   "source": [
    "# Loading dataset"
   ]
  },
  {
   "cell_type": "code",
   "execution_count": 1,
   "metadata": {},
   "outputs": [],
   "source": [
    "import pandas as pd\n",
    "df = pd.read_csv(\"https://raw.githubusercontent.com/catanaranjo/fraudDetection/master/dev.csv\") \n",
    "dfo = pd.read_csv(\"https://raw.githubusercontent.com/catanaranjo/fraudDetection/master/oot0.csv\")"
   ]
  },
  {
   "cell_type": "markdown",
   "metadata": {},
   "source": [
    "# Creating new column for identifying train and test dataset"
   ]
  },
  {
   "cell_type": "code",
   "execution_count": 2,
   "metadata": {},
   "outputs": [],
   "source": [
    "df['dataset'] = 'train'\n",
    "dfo['dataset'] = 'test'\n",
    "dfo['ob_target'] = 0\n",
    "trainTestDF= df.append(dfo)"
   ]
  },
  {
   "cell_type": "markdown",
   "metadata": {},
   "source": [
    "# Identifying numeric features"
   ]
  },
  {
   "cell_type": "code",
   "execution_count": 3,
   "metadata": {},
   "outputs": [],
   "source": [
    "numericList = []\n",
    "for i in range(65,82):\n",
    "    numericList.append('if_var_' + str(i))"
   ]
  },
  {
   "cell_type": "markdown",
   "metadata": {},
   "source": [
    "# Removing outliers"
   ]
  },
  {
   "cell_type": "code",
   "execution_count": 4,
   "metadata": {},
   "outputs": [],
   "source": [
    "import numpy as np\n",
    "import warnings; warnings.simplefilter('ignore')\n",
    "def change_outliers(dataframe):\n",
    "    list = []\n",
    "    list = numericList\n",
    "    for column in list:\n",
    "        q1 = dataframe[column].quantile(0.25)\n",
    "        q3 = dataframe[column].quantile(0.75)\n",
    "        iqr = q3-q1 #Interquartile range\n",
    "        highest = q3 + 1.5*iqr\n",
    "        lowest = q1 - 1.5*iqr\n",
    "        median = dataframe.loc[dataframe[column]<q3 + 1.5*iqr, column].median()\n",
    "        outliersUp = (dataframe[column]).abs() > round(q3 + 1.5*iqr)\n",
    "        outliersDown = (dataframe[column]).abs() < round(q1 - 1.5*iqr)\n",
    "        dataframe[column][outliersUp] = np.nan\n",
    "        dataframe[column].fillna(highest, inplace=True)\n",
    "        dataframe[column][outliersDown] = np.nan\n",
    "        dataframe[column].fillna(lowest, inplace=True)\n",
    "\n",
    "numericDF = trainTestDF[numericList]\n",
    "change_outliers(numericDF)"
   ]
  },
  {
   "cell_type": "markdown",
   "metadata": {},
   "source": [
    "# Removing NA values"
   ]
  },
  {
   "cell_type": "code",
   "execution_count": 5,
   "metadata": {},
   "outputs": [],
   "source": [
    "trainTestDF['ib_var_12']=trainTestDF.ib_var_12.transform(lambda x: x.fillna(x.mode()[0]))\n",
    "trainTestDF['ib_var_15']=trainTestDF.ib_var_15.transform(lambda x: x.fillna(x.mode()[0]))\n",
    "trainTestDF['ib_var_16']=trainTestDF.ib_var_16.transform(lambda x: x.fillna(x.mode()[0]))\n",
    "trainTestDF['ib_var_17']=trainTestDF.ib_var_17.transform(lambda x: x.fillna(x.mode()[0]))\n",
    "trainTestDF['ib_var_18']=trainTestDF.ib_var_18.transform(lambda x: x.fillna(x.mode()[0]))\n",
    "trainTestDF['ib_var_19']=trainTestDF.ib_var_19.transform(lambda x: x.fillna(x.mode()[0]))\n",
    "trainTestDF['ib_var_20']=trainTestDF.ib_var_20.transform(lambda x: x.fillna(x.mode()[0]))\n",
    "trainTestDF['ib_var_21']=trainTestDF.ib_var_21.transform(lambda x: x.fillna(x.mode()[0]))\n",
    "trainTestDF['icn_var_22']=trainTestDF.icn_var_22.transform(lambda x: x.fillna(x.mode()[0]))\n",
    "trainTestDF['icn_var_24']=trainTestDF.icn_var_24.transform(lambda x: x.fillna(x.mode()[0]))\n",
    "trainTestDF['ico_var_26']=trainTestDF.ico_var_26.transform(lambda x: x.fillna(x.median()))\n",
    "trainTestDF['ico_var_33']=trainTestDF.ico_var_33.transform(lambda x: x.fillna(x.median()))\n",
    "trainTestDF['ico_var_37']=trainTestDF.ico_var_37.transform(lambda x: x.fillna(x.median()))\n",
    "trainTestDF['if_var_78']=trainTestDF.if_var_78.transform(lambda x: x.fillna(x.median()))"
   ]
  },
  {
   "cell_type": "markdown",
   "metadata": {},
   "source": [
    "# PCA for dimensionality reduction"
   ]
  },
  {
   "cell_type": "code",
   "execution_count": 6,
   "metadata": {},
   "outputs": [],
   "source": [
    "from sklearn.decomposition import PCA\n",
    "from sklearn.preprocessing import StandardScaler\n",
    "\n",
    "scaler = StandardScaler()\n",
    "numericDF = trainTestDF[numericList]\n",
    "numericDF = pd.DataFrame(scaler.fit_transform(numericDF),columns=numericDF.columns)\n",
    "numericDF.head()\n",
    "\n",
    "pca = PCA(n_components=8,random_state=42)\n",
    "transformed = pca.fit_transform(numericDF)\n",
    "\n",
    "pcaDF = pd.DataFrame(data = transformed\n",
    "             , columns = ['PCA1', 'PCA2', 'PCA3','PCA4','PCA5','PCA6','PCA7','PCA8'])\n",
    "pcaDF.reset_index(inplace=True)\n",
    "trainTestDF = trainTestDF.join(pcaDF)"
   ]
  },
  {
   "cell_type": "markdown",
   "metadata": {},
   "source": [
    "# OHE for categorical features"
   ]
  },
  {
   "cell_type": "code",
   "execution_count": 7,
   "metadata": {},
   "outputs": [
    {
     "data": {
      "text/html": [
       "<div>\n",
       "<style scoped>\n",
       "    .dataframe tbody tr th:only-of-type {\n",
       "        vertical-align: middle;\n",
       "    }\n",
       "\n",
       "    .dataframe tbody tr th {\n",
       "        vertical-align: top;\n",
       "    }\n",
       "\n",
       "    .dataframe thead th {\n",
       "        text-align: right;\n",
       "    }\n",
       "</style>\n",
       "<table border=\"1\" class=\"dataframe\">\n",
       "  <thead>\n",
       "    <tr style=\"text-align: right;\">\n",
       "      <th></th>\n",
       "      <th>id</th>\n",
       "      <th>ib_var_1</th>\n",
       "      <th>ib_var_2</th>\n",
       "      <th>ib_var_3</th>\n",
       "      <th>ib_var_4</th>\n",
       "      <th>ib_var_5</th>\n",
       "      <th>ib_var_6</th>\n",
       "      <th>ib_var_7</th>\n",
       "      <th>ib_var_8</th>\n",
       "      <th>ib_var_9</th>\n",
       "      <th>...</th>\n",
       "      <th>if_var_81</th>\n",
       "      <th>index</th>\n",
       "      <th>PCA1</th>\n",
       "      <th>PCA2</th>\n",
       "      <th>PCA3</th>\n",
       "      <th>PCA4</th>\n",
       "      <th>PCA5</th>\n",
       "      <th>PCA6</th>\n",
       "      <th>PCA7</th>\n",
       "      <th>PCA8</th>\n",
       "    </tr>\n",
       "  </thead>\n",
       "  <tbody>\n",
       "    <tr>\n",
       "      <th>0</th>\n",
       "      <td>1</td>\n",
       "      <td>0</td>\n",
       "      <td>1</td>\n",
       "      <td>0</td>\n",
       "      <td>0</td>\n",
       "      <td>1</td>\n",
       "      <td>1</td>\n",
       "      <td>0</td>\n",
       "      <td>0</td>\n",
       "      <td>0</td>\n",
       "      <td>...</td>\n",
       "      <td>1</td>\n",
       "      <td>0</td>\n",
       "      <td>1.702443</td>\n",
       "      <td>-0.240490</td>\n",
       "      <td>-1.858499</td>\n",
       "      <td>-0.151677</td>\n",
       "      <td>0.666923</td>\n",
       "      <td>0.086148</td>\n",
       "      <td>-0.543337</td>\n",
       "      <td>0.091393</td>\n",
       "    </tr>\n",
       "    <tr>\n",
       "      <th>1</th>\n",
       "      <td>2</td>\n",
       "      <td>0</td>\n",
       "      <td>1</td>\n",
       "      <td>0</td>\n",
       "      <td>0</td>\n",
       "      <td>0</td>\n",
       "      <td>1</td>\n",
       "      <td>0</td>\n",
       "      <td>0</td>\n",
       "      <td>0</td>\n",
       "      <td>...</td>\n",
       "      <td>4</td>\n",
       "      <td>1</td>\n",
       "      <td>0.651663</td>\n",
       "      <td>-0.711393</td>\n",
       "      <td>1.271747</td>\n",
       "      <td>2.329395</td>\n",
       "      <td>1.393649</td>\n",
       "      <td>0.745848</td>\n",
       "      <td>-0.610135</td>\n",
       "      <td>0.152565</td>\n",
       "    </tr>\n",
       "    <tr>\n",
       "      <th>2</th>\n",
       "      <td>3</td>\n",
       "      <td>0</td>\n",
       "      <td>0</td>\n",
       "      <td>0</td>\n",
       "      <td>0</td>\n",
       "      <td>1</td>\n",
       "      <td>1</td>\n",
       "      <td>0</td>\n",
       "      <td>0</td>\n",
       "      <td>0</td>\n",
       "      <td>...</td>\n",
       "      <td>2</td>\n",
       "      <td>2</td>\n",
       "      <td>0.908728</td>\n",
       "      <td>0.399952</td>\n",
       "      <td>0.895837</td>\n",
       "      <td>-0.064963</td>\n",
       "      <td>-0.342891</td>\n",
       "      <td>0.816829</td>\n",
       "      <td>-0.470053</td>\n",
       "      <td>-0.042002</td>\n",
       "    </tr>\n",
       "    <tr>\n",
       "      <th>3</th>\n",
       "      <td>4</td>\n",
       "      <td>0</td>\n",
       "      <td>1</td>\n",
       "      <td>0</td>\n",
       "      <td>1</td>\n",
       "      <td>1</td>\n",
       "      <td>1</td>\n",
       "      <td>0</td>\n",
       "      <td>0</td>\n",
       "      <td>0</td>\n",
       "      <td>...</td>\n",
       "      <td>3</td>\n",
       "      <td>3</td>\n",
       "      <td>1.794498</td>\n",
       "      <td>-0.480808</td>\n",
       "      <td>0.091275</td>\n",
       "      <td>1.277642</td>\n",
       "      <td>1.368120</td>\n",
       "      <td>2.154262</td>\n",
       "      <td>-0.365349</td>\n",
       "      <td>0.675085</td>\n",
       "    </tr>\n",
       "    <tr>\n",
       "      <th>4</th>\n",
       "      <td>5</td>\n",
       "      <td>0</td>\n",
       "      <td>0</td>\n",
       "      <td>0</td>\n",
       "      <td>0</td>\n",
       "      <td>0</td>\n",
       "      <td>1</td>\n",
       "      <td>0</td>\n",
       "      <td>0</td>\n",
       "      <td>0</td>\n",
       "      <td>...</td>\n",
       "      <td>3</td>\n",
       "      <td>4</td>\n",
       "      <td>0.052171</td>\n",
       "      <td>0.127745</td>\n",
       "      <td>1.042783</td>\n",
       "      <td>-0.379492</td>\n",
       "      <td>-0.488249</td>\n",
       "      <td>-1.109839</td>\n",
       "      <td>0.226669</td>\n",
       "      <td>-0.254306</td>\n",
       "    </tr>\n",
       "  </tbody>\n",
       "</table>\n",
       "<p>5 rows × 91 columns</p>\n",
       "</div>"
      ],
      "text/plain": [
       "   id  ib_var_1  ib_var_2  ib_var_3  ib_var_4  ib_var_5  ib_var_6  ib_var_7  \\\n",
       "0   1         0         1         0         0         1         1         0   \n",
       "1   2         0         1         0         0         0         1         0   \n",
       "2   3         0         0         0         0         1         1         0   \n",
       "3   4         0         1         0         1         1         1         0   \n",
       "4   5         0         0         0         0         0         1         0   \n",
       "\n",
       "   ib_var_8  ib_var_9  ...  if_var_81  index      PCA1      PCA2      PCA3  \\\n",
       "0         0         0  ...          1      0  1.702443 -0.240490 -1.858499   \n",
       "1         0         0  ...          4      1  0.651663 -0.711393  1.271747   \n",
       "2         0         0  ...          2      2  0.908728  0.399952  0.895837   \n",
       "3         0         0  ...          3      3  1.794498 -0.480808  0.091275   \n",
       "4         0         0  ...          3      4  0.052171  0.127745  1.042783   \n",
       "\n",
       "       PCA4      PCA5      PCA6      PCA7      PCA8  \n",
       "0 -0.151677  0.666923  0.086148 -0.543337  0.091393  \n",
       "1  2.329395  1.393649  0.745848 -0.610135  0.152565  \n",
       "2 -0.064963 -0.342891  0.816829 -0.470053 -0.042002  \n",
       "3  1.277642  1.368120  2.154262 -0.365349  0.675085  \n",
       "4 -0.379492 -0.488249 -1.109839  0.226669 -0.254306  \n",
       "\n",
       "[5 rows x 91 columns]"
      ]
     },
     "execution_count": 7,
     "metadata": {},
     "output_type": "execute_result"
    }
   ],
   "source": [
    "categorical_transformed_trainDF = trainTestDF[trainTestDF['dataset']=='train']\n",
    "categorical_transformed_testDF = trainTestDF[trainTestDF['dataset']=='test']\n",
    "\n",
    "# y_train = trainTestDF['ob_target']\n",
    "y_train = categorical_transformed_trainDF['ob_target']\n",
    "\n",
    "drops = ['ob_target','dataset']\n",
    "categorical_ohe_train = categorical_transformed_trainDF.loc[:,~categorical_transformed_trainDF.columns.isin(drops)]\n",
    "categorical_ohe_test = categorical_transformed_testDF.loc[:,~categorical_transformed_testDF.columns.isin(drops)]\n",
    "\n",
    "X_train = pd.get_dummies(categorical_ohe_train) \n",
    "X_test = pd.get_dummies(categorical_ohe_test)\n",
    "X_train.head()"
   ]
  },
  {
   "cell_type": "markdown",
   "metadata": {},
   "source": [
    "# Baseline Random Forest"
   ]
  },
  {
   "cell_type": "code",
   "execution_count": 8,
   "metadata": {},
   "outputs": [
    {
     "name": "stdout",
     "output_type": "stream",
     "text": [
      "GINI DEVELOPMENT= 1.0\n"
     ]
    }
   ],
   "source": [
    "from sklearn.ensemble import RandomForestClassifier\n",
    "from sklearn.metrics import roc_auc_score\n",
    "\n",
    "baseline_rf = RandomForestClassifier(n_jobs=-1,random_state=42,n_estimators=4000,criterion='entropy',max_features='log2',\n",
    "                                    bootstrap=True, min_samples_split=3,min_samples_leaf=1,oob_score=True)\n",
    "\n",
    "baseline_rf.fit(X_train,y_train)\n",
    "y_pred_rf = baseline_rf.predict_proba(X_train)[:,1]\n",
    "\n",
    " \n",
    "gini_score = 2*roc_auc_score(y_train, y_pred_rf)-1\n",
    "print (\"GINI DEVELOPMENT=\", gini_score)"
   ]
  },
  {
   "cell_type": "markdown",
   "metadata": {},
   "source": [
    "# Selecting important features"
   ]
  },
  {
   "cell_type": "code",
   "execution_count": 9,
   "metadata": {},
   "outputs": [
    {
     "name": "stdout",
     "output_type": "stream",
     "text": [
      "('id', 0.025033145990881252)\n",
      "('ib_var_1', 0.003011759605576295)\n",
      "('ib_var_2', 0.004931418503608898)\n",
      "('ib_var_3', 0.0021047998539137293)\n",
      "('ib_var_4', 0.0038560240484379906)\n",
      "('ib_var_5', 0.006361656123061807)\n",
      "('ib_var_6', 0.003825983860970021)\n",
      "('ib_var_7', 0.0013114585332493147)\n",
      "('ib_var_8', 0.0019982173067303326)\n",
      "('ib_var_9', 4.28143749744685e-06)\n",
      "('ib_var_10', 3.5108218682476505e-06)\n",
      "('ib_var_11', 0.0009179062061634104)\n",
      "('ib_var_12', 0.0)\n",
      "('ib_var_13', 0.003179337519977474)\n",
      "('ib_var_14', 0.004162150083697197)\n",
      "('ib_var_15', 0.0016958085480177272)\n",
      "('ib_var_16', 0.001932347733232165)\n",
      "('ib_var_17', 0.001324796676535979)\n",
      "('ib_var_18', 0.0033367653920923328)\n",
      "('ib_var_19', 0.001992554134279598)\n",
      "('ib_var_20', 0.0025071007371696165)\n",
      "('ib_var_21', 0.0036101232005007733)\n",
      "('icn_var_22', 0.00783166106525979)\n",
      "('icn_var_23', 0.002990642151627532)\n",
      "('icn_var_24', 0.009145768993402435)\n",
      "('ico_var_25', 0.0058206795045382485)\n",
      "('ico_var_26', 0.00632063548150101)\n",
      "('ico_var_27', 0.007381168489398272)\n",
      "('ico_var_28', 0.0057203830172042405)\n",
      "('ico_var_29', 0.007797932753381679)\n",
      "('ico_var_30', 0.005977764959566397)\n",
      "('ico_var_31', 0.009172658177964756)\n",
      "('ico_var_32', 0.006085392578495463)\n",
      "('ico_var_33', 0.015162551457973447)\n",
      "('ico_var_34', 0.01876770633120783)\n",
      "('ico_var_35', 0.01878472491828799)\n",
      "('ico_var_36', 0.020203713394325362)\n",
      "('ico_var_37', 0.007398633490665216)\n",
      "('ico_var_38', 0.007614410986953683)\n",
      "('ico_var_39', 0.009711926780837515)\n",
      "('ico_var_40', 0.007887864450174352)\n",
      "('ico_var_41', 0.009225085651570453)\n",
      "('ico_var_42', 0.008526443029737783)\n",
      "('ico_var_43', 0.006072861431358461)\n",
      "('ico_var_44', 0.0056144573187711065)\n",
      "('ico_var_45', 0.007672821890180644)\n",
      "('ico_var_46', 0.005666489898421288)\n",
      "('ico_var_47', 0.008805999149760267)\n",
      "('ico_var_48', 0.008134761340595978)\n",
      "('ico_var_49', 0.005513288026637488)\n",
      "('ico_var_50', 0.0043317856377949005)\n",
      "('ico_var_51', 0.007725641674146516)\n",
      "('ico_var_52', 0.009798932103267242)\n",
      "('ico_var_53', 0.008014347078747559)\n",
      "('ico_var_54', 0.007711000091448713)\n",
      "('ico_var_55', 0.007794957721951632)\n",
      "('ico_var_56', 0.008458766727779222)\n",
      "('ico_var_57', 0.00678636328107495)\n",
      "('ico_var_58', 0.006828086431760436)\n",
      "('ico_var_59', 0.00823445220084285)\n",
      "('ico_var_60', 0.0067144442357741155)\n",
      "('ico_var_61', 0.008119684252375343)\n",
      "('ico_var_62', 0.008024758849077798)\n",
      "('ico_var_63', 0.007537611599472732)\n",
      "('ico_var_64', 0.005408953782677155)\n",
      "('if_var_65', 0.026761715246243337)\n",
      "('if_var_66', 1.8300224741915437e-05)\n",
      "('if_var_67', 0.021369335865160006)\n",
      "('if_var_68', 0.031543969415989366)\n",
      "('if_var_69', 0.025120504621427453)\n",
      "('if_var_70', 0.00683435886503955)\n",
      "('if_var_71', 0.014646880548045168)\n",
      "('if_var_72', 0.015275987395636702)\n",
      "('if_var_73', 0.015951510872239845)\n",
      "('if_var_74', 0.008378312298247334)\n",
      "('if_var_75', 0.018396137638831404)\n",
      "('if_var_76', 0.01800280712983788)\n",
      "('if_var_77', 0.018471293023037707)\n",
      "('if_var_78', 0.02769749130707541)\n",
      "('if_var_79', 0.028685565807420235)\n",
      "('if_var_80', 0.015947021079969675)\n",
      "('if_var_81', 0.012125835478561796)\n",
      "('index', 0.025539025055296052)\n",
      "('PCA1', 0.028760483805108168)\n",
      "('PCA2', 0.029257481339523557)\n",
      "('PCA3', 0.03352375144060486)\n",
      "('PCA4', 0.03267396713402806)\n",
      "('PCA5', 0.025626823429465283)\n",
      "('PCA6', 0.029018970385414684)\n",
      "('PCA7', 0.02823916105213535)\n",
      "('PCA8', 0.02853395083546775)\n"
     ]
    },
    {
     "data": {
      "text/plain": [
       "SelectFromModel(estimator=RandomForestClassifier(bootstrap=True, ccp_alpha=0.0,\n",
       "                                                 class_weight=None,\n",
       "                                                 criterion='entropy',\n",
       "                                                 max_depth=None,\n",
       "                                                 max_features='log2',\n",
       "                                                 max_leaf_nodes=None,\n",
       "                                                 max_samples=None,\n",
       "                                                 min_impurity_decrease=0.0,\n",
       "                                                 min_impurity_split=None,\n",
       "                                                 min_samples_leaf=1,\n",
       "                                                 min_samples_split=3,\n",
       "                                                 min_weight_fraction_leaf=0.0,\n",
       "                                                 n_estimators=4000, n_jobs=-1,\n",
       "                                                 oob_score=True,\n",
       "                                                 random_state=42, verbose=0,\n",
       "                                                 warm_start=False),\n",
       "                max_features=None, norm_order=1, prefit=False, threshold=0.007)"
      ]
     },
     "execution_count": 9,
     "metadata": {},
     "output_type": "execute_result"
    }
   ],
   "source": [
    "from sklearn import datasets\n",
    "from sklearn.feature_selection import SelectFromModel\n",
    "\n",
    "feat_labels = list(X_train.columns.values)\n",
    "for feature in zip(feat_labels, baseline_rf.feature_importances_):\n",
    "    print(feature)\n",
    "    \n",
    "sfm = SelectFromModel(baseline_rf, threshold=0.007)\n",
    "sfm.fit(X_train, y_train)"
   ]
  },
  {
   "cell_type": "code",
   "execution_count": 11,
   "metadata": {},
   "outputs": [
    {
     "name": "stdout",
     "output_type": "stream",
     "text": [
      "GINI DEVELOPMENT= 1.0\n"
     ]
    }
   ],
   "source": [
    "X_important_train = pd.DataFrame(sfm.transform(X_train))\n",
    "X_important_test = sfm.transform(X_test)\n",
    "\n",
    "important_rf = RandomForestClassifier(n_jobs=-1,random_state=42,n_estimators=6576,criterion='entropy',max_features='log2',\n",
    "                                    bootstrap=True, min_samples_split=3,oob_score=True)\n",
    "\n",
    "important_rf.fit(X_important_train,y_train)\n",
    "y_pred_rf_import = important_rf.predict_proba(X_important_train)[:,1]\n",
    "\n",
    "gini_score = 2*roc_auc_score(y_train, y_pred_rf_import)-1\n",
    "print (\"GINI DEVELOPMENT=\", gini_score)"
   ]
  }
 ],
 "metadata": {
  "kernelspec": {
   "display_name": "Python 3",
   "language": "python",
   "name": "python3"
  },
  "language_info": {
   "codemirror_mode": {
    "name": "ipython",
    "version": 3
   },
   "file_extension": ".py",
   "mimetype": "text/x-python",
   "name": "python",
   "nbconvert_exporter": "python",
   "pygments_lexer": "ipython3",
   "version": "3.7.3"
  }
 },
 "nbformat": 4,
 "nbformat_minor": 2
}
